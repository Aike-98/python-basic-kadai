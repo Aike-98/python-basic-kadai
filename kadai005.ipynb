{
  "nbformat": 4,
  "nbformat_minor": 0,
  "metadata": {
    "colab": {
      "provenance": []
    },
    "kernelspec": {
      "name": "python3",
      "display_name": "Python 3"
    },
    "language_info": {
      "name": "python"
    }
  },
  "cells": [
    {
      "cell_type": "code",
      "execution_count": 6,
      "metadata": {
        "colab": {
          "base_uri": "https://localhost:8080/"
        },
        "id": "Cqug_BDsJSfo",
        "outputId": "55a3f1da-7456-4209-9862-3b8d67a98305"
      },
      "outputs": [
        {
          "output_type": "stream",
          "name": "stdout",
          "text": [
            "台形の面積は75.0㎠です\n"
          ]
        }
      ],
      "source": [
        "upper_side = 10\n",
        "bottom_side = 20\n",
        "height = 5\n",
        "\n",
        "area = (upper_side + bottom_side) * height / 2\n",
        "\n",
        "print(f\"台形の面積は{area}㎠です\")\n"
      ]
    }
  ]
}