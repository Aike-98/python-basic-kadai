{
  "nbformat": 4,
  "nbformat_minor": 0,
  "metadata": {
    "colab": {
      "provenance": []
    },
    "kernelspec": {
      "name": "python3",
      "display_name": "Python 3"
    },
    "language_info": {
      "name": "python"
    }
  },
  "cells": [
    {
      "cell_type": "code",
      "execution_count": 49,
      "metadata": {
        "colab": {
          "base_uri": "https://localhost:8080/"
        },
        "id": "D4b0f3ky-331",
        "outputId": "6f246159-813e-445d-92d9-950d7aedcade"
      },
      "outputs": [
        {
          "output_type": "stream",
          "name": "stdout",
          "text": [
            "var: 45\n",
            "result: FizzBuzz\n"
          ]
        }
      ],
      "source": [
        "import random\n",
        "\n",
        "var = random.randint(1, 100)\n",
        "result = \"\"\n",
        "\n",
        "print(\"var:\", var)\n",
        "\n",
        "if var % 3 == 0:\n",
        "  result += \"Fizz\"\n",
        "\n",
        "if var % 5 == 0:\n",
        "  result += \"Buzz\"\n",
        "\n",
        "if not result:\n",
        "  result = var\n",
        "\n",
        "print(\"result:\", result)"
      ]
    },
    {
      "cell_type": "code",
      "source": [
        "import random\n",
        "\n",
        "var = random.randint(1, 100)\n",
        "result = \"\"\n",
        "\n",
        "print(\"var:\", var)\n",
        "\n",
        "if var % 3 == 0 and var % 5 == 0:\n",
        "  result = \"FizzBuzz\"\n",
        "\n",
        "elif var % 3 == 0:\n",
        "  result = \"Fizz\"\n",
        "\n",
        "elif var % 5 == 0:\n",
        "  result = \"Buzz\"\n",
        "\n",
        "else:\n",
        "  result = var\n",
        "\n",
        "print(\"result:\", result)"
      ],
      "metadata": {
        "colab": {
          "base_uri": "https://localhost:8080/"
        },
        "id": "7johzCgHB7s-",
        "outputId": "a68f8009-fb04-42a9-f225-62a1b3f93617"
      },
      "execution_count": 63,
      "outputs": [
        {
          "output_type": "stream",
          "name": "stdout",
          "text": [
            "var: 15\n",
            "result: FizzBuzz\n"
          ]
        }
      ]
    }
  ]
}