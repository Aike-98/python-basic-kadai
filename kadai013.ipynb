{
  "nbformat": 4,
  "nbformat_minor": 0,
  "metadata": {
    "colab": {
      "provenance": []
    },
    "kernelspec": {
      "name": "python3",
      "display_name": "Python 3"
    },
    "language_info": {
      "name": "python"
    }
  },
  "cells": [
    {
      "cell_type": "code",
      "execution_count": 3,
      "metadata": {
        "colab": {
          "base_uri": "https://localhost:8080/"
        },
        "id": "dqZDLnSfL5oN",
        "outputId": "45d036ed-1e88-426c-bc80-ac99be0276f8"
      },
      "outputs": [
        {
          "output_type": "stream",
          "name": "stdout",
          "text": [
            "税込み価格は957.0000000000001円です。\n"
          ]
        }
      ],
      "source": [
        "# 商品の価格（円）と消費税（％）を定義\n",
        "price = 870\n",
        "tax = 10\n",
        "\n",
        "# 税込み価格を返す関数\n",
        "def calc_tax_included_price(price:int, tax:float) -> float:\n",
        "  return price * (tax/100 + 1)\n",
        "\n",
        "print(f\"税込み価格は{calc_tax_included_price(price, tax)}円です。\")"
      ]
    }
  ]
}