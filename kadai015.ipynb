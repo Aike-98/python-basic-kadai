{
  "nbformat": 4,
  "nbformat_minor": 0,
  "metadata": {
    "colab": {
      "provenance": []
    },
    "kernelspec": {
      "name": "python3",
      "display_name": "Python 3"
    },
    "language_info": {
      "name": "python"
    }
  },
  "cells": [
    {
      "cell_type": "code",
      "execution_count": 4,
      "metadata": {
        "colab": {
          "base_uri": "https://localhost:8080/"
        },
        "id": "xq9AVQdyTg16",
        "outputId": "f855700b-e5b3-4d7f-a82c-dcb7a33ef2fb"
      },
      "outputs": [
        {
          "output_type": "stream",
          "name": "stdout",
          "text": [
            "名前は花子、年齢は30歳です。\n",
            "名前は一郎、年齢は45歳です。\n"
          ]
        }
      ],
      "source": [
        "class Human:\n",
        "  def __init__(self, name, age):\n",
        "    self.name = name\n",
        "    self.age = age\n",
        "\n",
        "  def printinfo(self):\n",
        "    print(f\"名前は{self.name}、年齢は{self.age}歳です。\")\n",
        "\n",
        "hanako = Human(\"花子\", 30)\n",
        "ichiro = Human(\"一郎\", 45)\n",
        "\n",
        "hanako.printinfo()\n",
        "ichiro.printinfo()"
      ]
    }
  ]
}