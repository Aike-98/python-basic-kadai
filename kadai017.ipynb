{
  "nbformat": 4,
  "nbformat_minor": 0,
  "metadata": {
    "colab": {
      "provenance": []
    },
    "kernelspec": {
      "name": "python3",
      "display_name": "Python 3"
    },
    "language_info": {
      "name": "python"
    }
  },
  "cells": [
    {
      "cell_type": "code",
      "execution_count": 1,
      "metadata": {
        "colab": {
          "base_uri": "https://localhost:8080/"
        },
        "id": "Qw1FInd9WCcb",
        "outputId": "1089318f-b244-4efb-cd79-d27e5760d4ae"
      },
      "outputs": [
        {
          "output_type": "stream",
          "name": "stdout",
          "text": [
            "一郎さんは大人ではありません\n",
            "二郎さんは大人です\n",
            "三郎さんは大人です\n",
            "四郎さんは大人です\n",
            "五郎さんは大人ではありません\n",
            "花子さんは大人ではありません\n"
          ]
        }
      ],
      "source": [
        "class Human:\n",
        "  def __init__(self, name, age):\n",
        "    self.name = name\n",
        "    self.age = age\n",
        "\n",
        "  def check_adult(self):\n",
        "    if self.age >= 20:\n",
        "      print(f\"{self.name}さんは大人です\")\n",
        "    else:\n",
        "      print(f\"{self.name}さんは大人ではありません\")\n",
        "\n",
        "users = {\"一郎\":19, \"二郎\":20, \"三郎\":89, \"四郎\":21, \"五郎\":3, \"花子\":0}\n",
        "users_list = []\n",
        "\n",
        "for key, value in users.items():\n",
        "  user = Human(key, value)\n",
        "  users_list.append(user)\n",
        "\n",
        "for user in users_list:\n",
        "  user.check_adult()"
      ]
    },
    {
      "cell_type": "code",
      "source": [],
      "metadata": {
        "id": "ZXxrm1K8XD8R"
      },
      "execution_count": 1,
      "outputs": []
    }
  ]
}